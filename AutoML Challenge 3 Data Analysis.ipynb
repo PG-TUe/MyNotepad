{
 "cells": [
  {
   "cell_type": "markdown",
   "metadata": {},
   "source": [
    "**IMPORTANT**: Please rename your `B_train1.data` and `B_train1.solution` to `B_test0.data` and `B_test0.solution` respectively."
   ]
  },
  {
   "cell_type": "code",
   "execution_count": 1,
   "metadata": {
    "collapsed": true
   },
   "outputs": [],
   "source": [
    "import numpy as np\n",
    "import pandas as pd\n",
    "from sklearn.dummy import DummyClassifier\n",
    "from sklearn.tree import DecisionTreeClassifier\n",
    "from sklearn.ensemble import RandomForestClassifier\n",
    "from sklearn.preprocessing import Imputer\n",
    "from sklearn.pipeline import Pipeline"
   ]
  },
  {
   "cell_type": "code",
   "execution_count": 2,
   "metadata": {
    "collapsed": true
   },
   "outputs": [],
   "source": [
    "%matplotlib inline\n",
    "import matplotlib.pyplot as plt"
   ]
  },
  {
   "cell_type": "code",
   "execution_count": 3,
   "metadata": {
    "collapsed": true
   },
   "outputs": [],
   "source": [
    "dataset_name = 'B'\n",
    "data_path = 'D:\\\\Data\\\\AutoML3_input_data_1\\\\{0}\\\\{0}_'.format(dataset_name)"
   ]
  },
  {
   "cell_type": "markdown",
   "metadata": {},
   "source": [
    "## General Information"
   ]
  },
  {
   "cell_type": "code",
   "execution_count": 4,
   "metadata": {
    "collapsed": true
   },
   "outputs": [],
   "source": [
    "with open(data_path + 'public.info', 'r') as fh:\n",
    "    metadata = {line.split(' = ')[0]: line.split(' = ')[1].strip() for line in fh.readlines()}"
   ]
  },
  {
   "cell_type": "code",
   "execution_count": 5,
   "metadata": {
    "collapsed": true
   },
   "outputs": [],
   "source": [
    "with open(data_path + 'feat.type', 'r') as fh:\n",
    "    column_types = [line.strip() for line in fh.readlines()]"
   ]
  },
  {
   "cell_type": "code",
   "execution_count": 6,
   "metadata": {},
   "outputs": [
    {
     "data": {
      "text/plain": [
       "{'feat_num': '25',\n",
       " 'feat_type': \"'Numerical & Categorical & Multi-Value Categorical'\",\n",
       " 'has_categorical': '1',\n",
       " 'has_missing': '1',\n",
       " 'is_sparse': '0',\n",
       " 'label_num': '2',\n",
       " 'metric': \"'auc_metric'\",\n",
       " 'name': \"'B'\",\n",
       " 'target_num': '1',\n",
       " 'target_type': \"'Binary'\",\n",
       " 'task': \"'binary.classification'\",\n",
       " 'time_budget': '600'}"
      ]
     },
     "execution_count": 6,
     "metadata": {},
     "output_type": "execute_result"
    }
   ],
   "source": [
    "metadata"
   ]
  },
  {
   "cell_type": "markdown",
   "metadata": {},
   "source": [
    "We see that this dataset contains Multi-Value Categorical features. These are features that can have multiple values per observation. Scikit-learn can not deal with these type of features (I think), so we will have to encode them differently. For now however, we will drop them."
   ]
  },
  {
   "cell_type": "code",
   "execution_count": 7,
   "metadata": {
    "collapsed": true
   },
   "outputs": [],
   "source": [
    "multi_categorical_features = np.asarray([col_type == 'Multi-value' for col_type in column_types])\n",
    "categorical_features = np.asarray([col_type == 'Categorical' for col_type in column_types])\n",
    "numerical_features = np.asarray([col_type == 'Numerical' for col_type in column_types])"
   ]
  },
  {
   "cell_type": "code",
   "execution_count": 8,
   "metadata": {
    "collapsed": true
   },
   "outputs": [],
   "source": [
    "column_data_types = [float if ctype == 'Numerical' else str for ctype in column_types]\n",
    "dtype_per_column = dict(enumerate(column_data_types))\n",
    "numerical_features = np.asarray([ctype == 'Numerical' for ctype in column_types])"
   ]
  },
  {
   "cell_type": "code",
   "execution_count": 11,
   "metadata": {
    "collapsed": true
   },
   "outputs": [],
   "source": [
    "X = pd.read_csv(data_path + 'train1.data', sep=' ', header=None, dtype=dtype_per_column)\n",
    "X_no_multicat = X.loc[:, ~multi_categorical_features]\n",
    "X_numerical = X.loc[:,numerical_features]\n",
    "X_categorical = X.loc[:,~numerical_features]\n",
    "\n",
    "columns_with_nan = X.isnull().any()\n",
    "nunique_counts = X.apply(pd.Series.nunique)\n",
    "constant_columns = np.asarray([idx for (idx, nuniques) in nunique_counts.items() if nuniques == 1])\n",
    "\n",
    "X_train = X_no_multicat.drop(constant_columns, axis='columns')"
   ]
  },
  {
   "cell_type": "code",
   "execution_count": 12,
   "metadata": {},
   "outputs": [
    {
     "data": {
      "image/png": "[encoded data removed]",
      "text/plain": [
       "<matplotlib.figure.Figure at 0x286c2af0b38>"
      ]
     },
     "metadata": {},
     "output_type": "display_data"
    }
   ],
   "source": [
    "fig, axes = plt.subplots(nrows=2, ncols=4, figsize=(16,9))\n",
    "for ax, column in zip(axes.flatten(), X_numerical.columns):\n",
    "    ax.boxplot(X_numerical.loc[:, column].dropna())\n",
    "    ax.set_title(column)\n",
    "\n",
    "fig.tight_layout()"
   ]
  },
  {
   "cell_type": "code",
   "execution_count": 13,
   "metadata": {
    "collapsed": true
   },
   "outputs": [],
   "source": [
    "y_train = pd.read_csv(data_path + 'train1.solution', header=None)"
   ]
  },
  {
   "cell_type": "code",
   "execution_count": 14,
   "metadata": {},
   "outputs": [
    {
     "data": {
      "text/plain": [
       "(Counter({0: 154812, 1: 5243}), 0.03386688370410562)"
      ]
     },
     "execution_count": 14,
     "metadata": {},
     "output_type": "execute_result"
    }
   ],
   "source": [
    "from collections import Counter\n",
    "class_counter = Counter(y_train.values.reshape(1,-1)[0])\n",
    "class_counter, 5243/154812"
   ]
  },
  {
   "cell_type": "markdown",
   "metadata": {},
   "source": [
    "We see a big class imbalance."
   ]
  },
  {
   "cell_type": "markdown",
   "metadata": {},
   "source": [
    "## Baseline Results\n",
    "We establish three baselines:\n",
    " - `DummyClassifier` which always predicts the class prior (and thus should score an AUC of 0.5).\n",
    " - `DecisionTreeClassifier` a simple tree model, to verify that there is something to learn from the data.\n",
    " - `RandomForestClassifier` a good general algorithm."
   ]
  },
  {
   "cell_type": "code",
   "execution_count": 60,
   "metadata": {
    "collapsed": true
   },
   "outputs": [],
   "source": [
    "dummy = DummyClassifier(strategy='prior')\n",
    "tree = DecisionTreeClassifier()\n",
    "random_forest = RandomForestClassifier(n_estimators=1000, n_jobs=6)"
   ]
  },
  {
   "cell_type": "markdown",
   "metadata": {},
   "source": [
    "Next we set up a function which will load a data batch and train a model on it.\n",
    "Before training, it will:\n",
    " - Drop constant columns. Avoid a useless timewaster.\n",
    " - Drop the multi-categorical features. We don't encode them (yet), so we can't use them.\n",
    " - Impute missing values. For now, we use a median strategy. There are definitely better strategies, especially since we restrict ourselves to trees."
   ]
  },
  {
   "cell_type": "code",
   "execution_count": 72,
   "metadata": {
    "collapsed": true
   },
   "outputs": [],
   "source": [
    "def prepare_train_data(test_no):\n",
    "    X = pd.read_csv(data_path + 'test{}.data'.format(test_no),\n",
    "                    sep=' ', header=None, dtype=dtype_per_column)\n",
    "    X_no_multicat = X.loc[:, ~multi_categorical_features]\n",
    "    X_numerical = X.loc[:,numerical_features]\n",
    "    X_categorical = X.loc[:,~numerical_features]\n",
    "\n",
    "    columns_with_nan = X.isnull().any()\n",
    "    nunique_counts = X.apply(pd.Series.nunique)\n",
    "    constant_columns = np.asarray([idx for (idx, nuniques) in nunique_counts.items() if nuniques == 1])\n",
    "\n",
    "    X_train = X_no_multicat.drop(constant_columns, axis='columns')\n",
    "    median_imputer = Imputer(strategy='median')\n",
    "    X_train_imp = median_imputer.fit_transform(X_train)\n",
    "    \n",
    "    y_train = pd.read_csv(data_path + 'test{}.solution'.format(test_no), header=None)\n",
    "    return X_train_imp, y_train.values.ravel()"
   ]
  },
  {
   "cell_type": "markdown",
   "metadata": {},
   "source": [
    "We set up a function which can then also automatically score the model on a desired test batch."
   ]
  },
  {
   "cell_type": "code",
   "execution_count": 78,
   "metadata": {
    "collapsed": true
   },
   "outputs": [],
   "source": [
    "from sklearn.preprocessing import OneHotEncoder\n",
    "from sklearn.metrics import roc_auc_score\n",
    "\n",
    "def prepare_test_data(test_no):\n",
    "    X_test = pd.read_csv(data_path + 'test{}.data'.format(test_no),\n",
    "                         sep=' ', header=None, dtype=dtype_per_column)\n",
    "    X_test = X_test.iloc[:, ~multi_categorical_features].drop(constant_columns, axis='columns')\n",
    "    X_test_imp = median_imputer.transform(X_test)\n",
    "    \n",
    "    y_test = pd.read_csv(data_path + 'test{}.solution'.format(test_no), header=None)    \n",
    "    y_test = OneHotEncoder().fit_transform(y_test).todense()\n",
    "    return X_test_imp, y_test\n",
    "\n",
    "def score_for_data(X, y, model):\n",
    "    model_predictions = model.predict_proba(X)\n",
    "    if isinstance(model_predictions, list):\n",
    "        # For DummyClassifier\n",
    "        model_predictions = model_predictions[0]\n",
    "    return roc_auc_score(y, model_predictions)    "
   ]
  },
  {
   "cell_type": "markdown",
   "metadata": {},
   "source": [
    "Happy evaluation! We want to explore a few things:\n",
    " - Do we really need to retrain our model? What happens if we only train the model once?\n",
    " - Do we really need all the data? What if we only train on the most recent batch?\n",
    " - But.. what if we do use all the data?"
   ]
  },
  {
   "cell_type": "code",
   "execution_count": 82,
   "metadata": {},
   "outputs": [
    {
     "name": "stdout",
     "output_type": "stream",
     "text": [
      "fitting DummyClassifier on train batch 0\n",
      "fitting DecisionTreeClassifier on train batch 0\n",
      "fitting RandomForestClassifier on train batch 0\n",
      "scoring DummyClassifier on test batch 1\n",
      "scoring DecisionTreeClassifier on test batch 1\n",
      "scoring RandomForestClassifier on test batch 1\n",
      "scoring DummyClassifier on test batch 2\n",
      "scoring DecisionTreeClassifier on test batch 2\n",
      "scoring RandomForestClassifier on test batch 2\n",
      "scoring DummyClassifier on test batch 3\n",
      "scoring DecisionTreeClassifier on test batch 3\n",
      "scoring RandomForestClassifier on test batch 3\n",
      "scoring DummyClassifier on test batch 4\n",
      "scoring DecisionTreeClassifier on test batch 4\n",
      "scoring RandomForestClassifier on test batch 4\n",
      "fitting DummyClassifier on train batch 1\n",
      "fitting DecisionTreeClassifier on train batch 1\n",
      "fitting RandomForestClassifier on train batch 1\n",
      "scoring DummyClassifier on test batch 2\n",
      "scoring DecisionTreeClassifier on test batch 2\n",
      "scoring RandomForestClassifier on test batch 2\n",
      "scoring DummyClassifier on test batch 3\n",
      "scoring DecisionTreeClassifier on test batch 3\n",
      "scoring RandomForestClassifier on test batch 3\n",
      "scoring DummyClassifier on test batch 4\n",
      "scoring DecisionTreeClassifier on test batch 4\n",
      "scoring RandomForestClassifier on test batch 4\n",
      "fitting DummyClassifier on train batch 2\n",
      "fitting DecisionTreeClassifier on train batch 2\n",
      "fitting RandomForestClassifier on train batch 2\n",
      "scoring DummyClassifier on test batch 3\n",
      "scoring DecisionTreeClassifier on test batch 3\n",
      "scoring RandomForestClassifier on test batch 3\n",
      "scoring DummyClassifier on test batch 4\n",
      "scoring DecisionTreeClassifier on test batch 4\n",
      "scoring RandomForestClassifier on test batch 4\n",
      "fitting DummyClassifier on train batch 3\n",
      "fitting DecisionTreeClassifier on train batch 3\n",
      "fitting RandomForestClassifier on train batch 3\n",
      "scoring DummyClassifier on test batch 4\n",
      "scoring DecisionTreeClassifier on test batch 4\n",
      "scoring RandomForestClassifier on test batch 4\n"
     ]
    }
   ],
   "source": [
    "df_results = pd.DataFrame(columns=['learner', 'train_partitions', 'test_partition', 'AUC'])\n",
    "\n",
    "def append_row(df, row_data):\n",
    "    df.loc[len(df_results.index)] = row_data\n",
    "\n",
    "def log_score(train_partition, test_partition, model):\n",
    "    print('scoring {} on {}\\r'.format(model.__class__.__name__, test_partition))\n",
    "    auc = score_for_data(X, y, model)\n",
    "    append_row(df_results, [model.__class__.__name__, str(train_partition), str(test_partition), auc])\n",
    "\n",
    "models = [dummy, tree, random_forest]\n",
    "for train_batch in range(4):\n",
    "    X, y = prepare_train_data(train_batch)\n",
    "    for model in models:\n",
    "        print('fitting {} on train batch {}'.format(model.__class__.__name__, train_batch))\n",
    "        model.fit(X, y)\n",
    "    \n",
    "    for test_batch in range(train_batch+1, 5):\n",
    "        X_test, y_test = prepare_test_data(test_batch)\n",
    "        for model in models:\n",
    "            print('scoring {} on test batch {}'.format(model.__class__.__name__, test_batch))\n",
    "            auc = score_for_data(X_test, y_test, model)\n",
    "            append_row(df_results, \n",
    "                       [model.__class__.__name__, str(train_batch), str(test_batch), auc])"
   ]
  },
  {
   "cell_type": "code",
   "execution_count": 86,
   "metadata": {},
   "outputs": [
    {
     "data": {
      "text/html": [
       "<div>\n",
       "<style scoped>\n",
       "    .dataframe tbody tr th:only-of-type {\n",
       "        vertical-align: middle;\n",
       "    }\n",
       "\n",
       "    .dataframe tbody tr th {\n",
       "        vertical-align: top;\n",
       "    }\n",
       "\n",
       "    .dataframe thead th {\n",
       "        text-align: right;\n",
       "    }\n",
       "</style>\n",
       "<table border=\"1\" class=\"dataframe\">\n",
       "  <thead>\n",
       "    <tr style=\"text-align: right;\">\n",
       "      <th></th>\n",
       "      <th>learner</th>\n",
       "      <th>train_partitions</th>\n",
       "      <th>test_partition</th>\n",
       "      <th>AUC</th>\n",
       "    </tr>\n",
       "  </thead>\n",
       "  <tbody>\n",
       "    <tr>\n",
       "      <th>1</th>\n",
       "      <td>DecisionTreeClassifier</td>\n",
       "      <td>0</td>\n",
       "      <td>1</td>\n",
       "      <td>0.510572</td>\n",
       "    </tr>\n",
       "    <tr>\n",
       "      <th>4</th>\n",
       "      <td>DecisionTreeClassifier</td>\n",
       "      <td>0</td>\n",
       "      <td>2</td>\n",
       "      <td>0.504668</td>\n",
       "    </tr>\n",
       "    <tr>\n",
       "      <th>13</th>\n",
       "      <td>DecisionTreeClassifier</td>\n",
       "      <td>1</td>\n",
       "      <td>2</td>\n",
       "      <td>0.510235</td>\n",
       "    </tr>\n",
       "    <tr>\n",
       "      <th>7</th>\n",
       "      <td>DecisionTreeClassifier</td>\n",
       "      <td>0</td>\n",
       "      <td>3</td>\n",
       "      <td>0.510961</td>\n",
       "    </tr>\n",
       "    <tr>\n",
       "      <th>16</th>\n",
       "      <td>DecisionTreeClassifier</td>\n",
       "      <td>1</td>\n",
       "      <td>3</td>\n",
       "      <td>0.509168</td>\n",
       "    </tr>\n",
       "    <tr>\n",
       "      <th>22</th>\n",
       "      <td>DecisionTreeClassifier</td>\n",
       "      <td>2</td>\n",
       "      <td>3</td>\n",
       "      <td>0.508787</td>\n",
       "    </tr>\n",
       "    <tr>\n",
       "      <th>10</th>\n",
       "      <td>DecisionTreeClassifier</td>\n",
       "      <td>0</td>\n",
       "      <td>4</td>\n",
       "      <td>0.511499</td>\n",
       "    </tr>\n",
       "    <tr>\n",
       "      <th>19</th>\n",
       "      <td>DecisionTreeClassifier</td>\n",
       "      <td>1</td>\n",
       "      <td>4</td>\n",
       "      <td>0.508488</td>\n",
       "    </tr>\n",
       "    <tr>\n",
       "      <th>25</th>\n",
       "      <td>DecisionTreeClassifier</td>\n",
       "      <td>2</td>\n",
       "      <td>4</td>\n",
       "      <td>0.510067</td>\n",
       "    </tr>\n",
       "    <tr>\n",
       "      <th>28</th>\n",
       "      <td>DecisionTreeClassifier</td>\n",
       "      <td>3</td>\n",
       "      <td>4</td>\n",
       "      <td>0.510410</td>\n",
       "    </tr>\n",
       "    <tr>\n",
       "      <th>0</th>\n",
       "      <td>DummyClassifier</td>\n",
       "      <td>0</td>\n",
       "      <td>1</td>\n",
       "      <td>0.499509</td>\n",
       "    </tr>\n",
       "    <tr>\n",
       "      <th>3</th>\n",
       "      <td>DummyClassifier</td>\n",
       "      <td>0</td>\n",
       "      <td>2</td>\n",
       "      <td>0.502012</td>\n",
       "    </tr>\n",
       "    <tr>\n",
       "      <th>12</th>\n",
       "      <td>DummyClassifier</td>\n",
       "      <td>1</td>\n",
       "      <td>2</td>\n",
       "      <td>0.499813</td>\n",
       "    </tr>\n",
       "    <tr>\n",
       "      <th>6</th>\n",
       "      <td>DummyClassifier</td>\n",
       "      <td>0</td>\n",
       "      <td>3</td>\n",
       "      <td>0.500236</td>\n",
       "    </tr>\n",
       "    <tr>\n",
       "      <th>15</th>\n",
       "      <td>DummyClassifier</td>\n",
       "      <td>1</td>\n",
       "      <td>3</td>\n",
       "      <td>0.500920</td>\n",
       "    </tr>\n",
       "    <tr>\n",
       "      <th>21</th>\n",
       "      <td>DummyClassifier</td>\n",
       "      <td>2</td>\n",
       "      <td>3</td>\n",
       "      <td>0.501878</td>\n",
       "    </tr>\n",
       "    <tr>\n",
       "      <th>9</th>\n",
       "      <td>DummyClassifier</td>\n",
       "      <td>0</td>\n",
       "      <td>4</td>\n",
       "      <td>0.500643</td>\n",
       "    </tr>\n",
       "    <tr>\n",
       "      <th>18</th>\n",
       "      <td>DummyClassifier</td>\n",
       "      <td>1</td>\n",
       "      <td>4</td>\n",
       "      <td>0.500139</td>\n",
       "    </tr>\n",
       "    <tr>\n",
       "      <th>24</th>\n",
       "      <td>DummyClassifier</td>\n",
       "      <td>2</td>\n",
       "      <td>4</td>\n",
       "      <td>0.500080</td>\n",
       "    </tr>\n",
       "    <tr>\n",
       "      <th>27</th>\n",
       "      <td>DummyClassifier</td>\n",
       "      <td>3</td>\n",
       "      <td>4</td>\n",
       "      <td>0.501551</td>\n",
       "    </tr>\n",
       "    <tr>\n",
       "      <th>2</th>\n",
       "      <td>RandomForestClassifier</td>\n",
       "      <td>0</td>\n",
       "      <td>1</td>\n",
       "      <td>0.561985</td>\n",
       "    </tr>\n",
       "    <tr>\n",
       "      <th>5</th>\n",
       "      <td>RandomForestClassifier</td>\n",
       "      <td>0</td>\n",
       "      <td>2</td>\n",
       "      <td>0.543115</td>\n",
       "    </tr>\n",
       "    <tr>\n",
       "      <th>14</th>\n",
       "      <td>RandomForestClassifier</td>\n",
       "      <td>1</td>\n",
       "      <td>2</td>\n",
       "      <td>0.549183</td>\n",
       "    </tr>\n",
       "    <tr>\n",
       "      <th>8</th>\n",
       "      <td>RandomForestClassifier</td>\n",
       "      <td>0</td>\n",
       "      <td>3</td>\n",
       "      <td>0.558201</td>\n",
       "    </tr>\n",
       "    <tr>\n",
       "      <th>17</th>\n",
       "      <td>RandomForestClassifier</td>\n",
       "      <td>1</td>\n",
       "      <td>3</td>\n",
       "      <td>0.561366</td>\n",
       "    </tr>\n",
       "    <tr>\n",
       "      <th>23</th>\n",
       "      <td>RandomForestClassifier</td>\n",
       "      <td>2</td>\n",
       "      <td>3</td>\n",
       "      <td>0.560029</td>\n",
       "    </tr>\n",
       "    <tr>\n",
       "      <th>11</th>\n",
       "      <td>RandomForestClassifier</td>\n",
       "      <td>0</td>\n",
       "      <td>4</td>\n",
       "      <td>0.549692</td>\n",
       "    </tr>\n",
       "    <tr>\n",
       "      <th>20</th>\n",
       "      <td>RandomForestClassifier</td>\n",
       "      <td>1</td>\n",
       "      <td>4</td>\n",
       "      <td>0.553032</td>\n",
       "    </tr>\n",
       "    <tr>\n",
       "      <th>26</th>\n",
       "      <td>RandomForestClassifier</td>\n",
       "      <td>2</td>\n",
       "      <td>4</td>\n",
       "      <td>0.552201</td>\n",
       "    </tr>\n",
       "    <tr>\n",
       "      <th>29</th>\n",
       "      <td>RandomForestClassifier</td>\n",
       "      <td>3</td>\n",
       "      <td>4</td>\n",
       "      <td>0.558893</td>\n",
       "    </tr>\n",
       "  </tbody>\n",
       "</table>\n",
       "</div>"
      ],
      "text/plain": [
       "                   learner train_partitions test_partition       AUC\n",
       "1   DecisionTreeClassifier                0              1  0.510572\n",
       "4   DecisionTreeClassifier                0              2  0.504668\n",
       "13  DecisionTreeClassifier                1              2  0.510235\n",
       "7   DecisionTreeClassifier                0              3  0.510961\n",
       "16  DecisionTreeClassifier                1              3  0.509168\n",
       "22  DecisionTreeClassifier                2              3  0.508787\n",
       "10  DecisionTreeClassifier                0              4  0.511499\n",
       "19  DecisionTreeClassifier                1              4  0.508488\n",
       "25  DecisionTreeClassifier                2              4  0.510067\n",
       "28  DecisionTreeClassifier                3              4  0.510410\n",
       "0          DummyClassifier                0              1  0.499509\n",
       "3          DummyClassifier                0              2  0.502012\n",
       "12         DummyClassifier                1              2  0.499813\n",
       "6          DummyClassifier                0              3  0.500236\n",
       "15         DummyClassifier                1              3  0.500920\n",
       "21         DummyClassifier                2              3  0.501878\n",
       "9          DummyClassifier                0              4  0.500643\n",
       "18         DummyClassifier                1              4  0.500139\n",
       "24         DummyClassifier                2              4  0.500080\n",
       "27         DummyClassifier                3              4  0.501551\n",
       "2   RandomForestClassifier                0              1  0.561985\n",
       "5   RandomForestClassifier                0              2  0.543115\n",
       "14  RandomForestClassifier                1              2  0.549183\n",
       "8   RandomForestClassifier                0              3  0.558201\n",
       "17  RandomForestClassifier                1              3  0.561366\n",
       "23  RandomForestClassifier                2              3  0.560029\n",
       "11  RandomForestClassifier                0              4  0.549692\n",
       "20  RandomForestClassifier                1              4  0.553032\n",
       "26  RandomForestClassifier                2              4  0.552201\n",
       "29  RandomForestClassifier                3              4  0.558893"
      ]
     },
     "execution_count": 86,
     "metadata": {},
     "output_type": "execute_result"
    }
   ],
   "source": [
    "df_results.sort_values(by=['learner', 'test_partition', 'train_partitions'])"
   ]
  },
  {
   "cell_type": "code",
   "execution_count": 91,
   "metadata": {},
   "outputs": [
    {
     "data": {
      "text/plain": [
       "DummyClassifier(constant=None, random_state=None, strategy='stratified')"
      ]
     },
     "execution_count": 91,
     "metadata": {},
     "output_type": "execute_result"
    }
   ],
   "source": [
    "dummy.fit(X, y)"
   ]
  },
  {
   "cell_type": "code",
   "execution_count": 92,
   "metadata": {},
   "outputs": [
    {
     "data": {
      "text/plain": [
       "array([[1, 0],\n",
       "       [1, 0],\n",
       "       [1, 0],\n",
       "       ...,\n",
       "       [1, 0],\n",
       "       [1, 0],\n",
       "       [1, 0]])"
      ]
     },
     "execution_count": 92,
     "metadata": {},
     "output_type": "execute_result"
    }
   ],
   "source": [
    "dummy.predict_proba(X_test)"
   ]
  },
  {
   "cell_type": "code",
   "execution_count": null,
   "metadata": {
    "collapsed": true
   },
   "outputs": [],
   "source": []
  }
 ],
 "metadata": {
  "kernelspec": {
   "display_name": "Python 3",
   "language": "python",
   "name": "python3"
  },
  "language_info": {
   "codemirror_mode": {
    "name": "ipython",
    "version": 3
   },
   "file_extension": ".py",
   "mimetype": "text/x-python",
   "name": "python",
   "nbconvert_exporter": "python",
   "pygments_lexer": "ipython3",
   "version": "3.6.3"
  }
 },
 "nbformat": 4,
 "nbformat_minor": 2
}
